{
 "cells": [
  {
   "cell_type": "code",
   "execution_count": null,
   "metadata": {
    "collapsed": false,
    "deletable": true,
    "editable": true
   },
   "outputs": [],
   "source": [
    "import tflearn\n",
    "import tensorflow as tf\n",
    "from tflearn.layers.conv import conv_2d, max_pool_2d\n",
    "from tflearn.layers.core import dropout, fully_connected\n",
    "from tflearn.layers.estimator import regression\n",
    "from tflearn.layers.normalization import local_response_normalization\n",
    "from tensorflow.examples.tutorials.mnist import input_data\n",
    "# mnist = input_data.read_data_sets(\"MNIST_data/\", one_hot=True)\n",
    "# X = mnist.train.images.reshape([-1, 28, 28, 1])\n",
    "# Y = mnist.train.labels\n",
    "# X = X.reshape([-1, 28, 28, 1])\n",
    "import os\n",
    "import h5py\n",
    "#dataset is Fynd's dataset\n",
    "h5f = h5py.File('/home/beast/AI/experiments/notebooks/Neeraj/dataset.h5', 'r')\n",
    "X = h5f['X']\n",
    "Y = h5f['Y']\n",
    "print(X.shape)\n",
    "print(Y.shape)"
   ]
  },
  {
   "cell_type": "code",
   "execution_count": null,
   "metadata": {
    "collapsed": true,
    "deletable": true,
    "editable": true
   },
   "outputs": [],
   "source": [
    "# Parameters\n",
    "learning_rate = 0.001\n",
    "training_iters = 100\n",
    "batch_size = 128\n",
    "display_step = 10\n",
    "\n",
    "# Network Parameters\n",
    "n_input = 784 # MNIST data input (img shape: 28*28\n",
    "n_classes = 10 # MNIST total classes (0-9 digits)\n",
    "keep_prob = 0.75 # Dropout, probability to keep uni"
   ]
  },
  {
   "cell_type": "code",
   "execution_count": null,
   "metadata": {
    "collapsed": false,
    "deletable": true,
    "editable": true
   },
   "outputs": [],
   "source": [
    "net = tflearn.input_data(shape=[None, 128, 128, 3])\n",
    "net = conv_2d(net, nb_filter=32, filter_size=[5, 5], activation='linear')\n",
    "net = max_pool_2d(net, 2)\n",
    "net = tflearn.fully_connected(net, 4, activation='softmax')\n",
    "net = regression(net, optimizer='adam', loss='categorical_crossentropy', learning_rate=0.001)\n",
    "model = tflearn.DNN(net)"
   ]
  },
  {
   "cell_type": "code",
   "execution_count": null,
   "metadata": {
    "collapsed": false,
    "deletable": true,
    "editable": true
   },
   "outputs": [],
   "source": [
    "model.fit(X, Y, n_epoch=20, validation_set=0.2, snapshot_step=100, show_metric=True, run_id='convnet_mnist')"
   ]
  }
 ],
 "metadata": {
  "kernelspec": {
   "display_name": "Python 3",
   "language": "python",
   "name": "python3"
  },
  "language_info": {
   "codemirror_mode": {
    "name": "ipython",
    "version": 3
   },
   "file_extension": ".py",
   "mimetype": "text/x-python",
   "name": "python",
   "nbconvert_exporter": "python",
   "pygments_lexer": "ipython3",
   "version": "3.5.2"
  }
 },
 "nbformat": 4,
 "nbformat_minor": 2
}
